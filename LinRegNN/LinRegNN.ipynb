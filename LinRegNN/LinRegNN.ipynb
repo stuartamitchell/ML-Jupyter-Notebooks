{
 "cells": [
  {
   "cell_type": "markdown",
   "metadata": {},
   "source": [
    "# Linear regression as a simple neural network\n",
    "\n",
    "Suppose we have a bivariate data set $x$ and $y$ and we wish to fit a linear model, $\\hat{y} = wx + b$, to it. The classical approach is to use least squares regression: a model which minimises the squares of the residuals between the measured value and the predicted value.\n",
    "\n",
    "This can also be achieved through the use of a simple neural network consisting of just an input layer of one neuron and an output layer of one neuron. There is one edge connecting them which scalar multiplies the input vector by a __weight__ $w$ and adds a __bias__ $b$ to each component of the vector.\n",
    "\n",
    "Our __training data__ for our neural network will be a randomly generated set of $n$ scores, made to be appropximately linear.\n"
   ]
  },
  {
   "cell_type": "code",
   "execution_count": 33,
   "metadata": {},
   "outputs": [
    {
     "data": {
      "image/png": "[encoded data removed]",
      "text/plain": [
       "<Figure size 432x288 with 1 Axes>"
      ]
     },
     "metadata": {
      "needs_background": "light"
     },
     "output_type": "display_data"
    }
   ],
   "source": [
    "import numpy as np\n",
    "import matplotlib.pyplot as plt\n",
    "\n",
    "np.random.seed(1) # deterministic random seed\n",
    "n = 100 # number of scores in our data set\n",
    "\n",
    "x = np.random.uniform(low = 1, high = 100, size = n).reshape(n,1) # create random array for x values\n",
    "\n",
    "w = 2 * np.random.random() + 1 # random gradient between 1 and 3\n",
    "b = 10 * np.random.random() - 5 # random y-intercept between -5 and 5\n",
    "s = np.random.uniform(low = -10, high = 10, size = n).reshape(n,1) # create some variation around the line\n",
    "\n",
    "y = w * x + b + s\n",
    "\n",
    "plt.scatter(x,y)\n",
    "plt.show()"
   ]
  },
  {
   "cell_type": "markdown",
   "metadata": {},
   "source": [
    "## Classical linear regression\n",
    "Before we construct a neural network to find the linear model, we will use the classical linear regression model. Recall the gradient of the linear model is given by\n",
    "\\\\[ w = \\frac{\\sum_{i=0}^n (x_i - \\bar{x})(y_i - \\bar{y})}{\\sum_{i=0}^n (x_i - \\bar{x})^2}. \\\\]\n",
    "The $y$-intercept is then given by\n",
    "\\\\[ b = \\bar{y} - w \\bar{x}. \\\\]"
   ]
  },
  {
   "cell_type": "code",
   "execution_count": 16,
   "metadata": {},
   "outputs": [
    {
     "name": "stdout",
     "output_type": "stream",
     "text": [
      "w =  1.6621957496645583\n",
      "b =  -0.33931172631471895\n"
     ]
    }
   ],
   "source": [
    "w_calc = np.sum((x - x.mean())*(y - y.mean())) / np.sum((x - x.mean())**2)\n",
    "b_calc = y.mean() - w_calc * x.mean()\n",
    "print(\"w = \", w_calc) \n",
    "print(\"b = \", b_calc)"
   ]
  },
  {
   "cell_type": "markdown",
   "metadata": {},
   "source": [
    "## Creating the network\n",
    "We begin by setting $w$ and $b$ to zero. We then update these values through a loop which looks at the difference between the predicted values generated by $\\hat{y} = wx + b$ and the training data $y$ values. Obviously, this first model will be a terrible fit. To create a better fit we use an error function and minimise the error using a technique called __gradient descent__.\n",
    "\n",
    "Our error function of choice is the half mean squared error:\n",
    "\\\\[ J := \\frac{1}{2n} \\sum_{i=1}^n (\\hat{y}_i - y_i)^2. \\\\]\n",
    "To choose the direction in which we should move we use the negative of the __gradient__:\n",
    "\\\\[ \\nabla J = \\left[ \\begin{array}{c} \\frac{\\partial J}{\\partial w} \\\\ \\frac{\\partial J}{\\partial b} \\end{array} \\right]. \\\\]\n",
    "This is because the gradient gives us the direction in which we should travel to increase the value of a multivariable function most rapidly. The negative then gives us the direction to _decrease_ the value of a function most rapidly.\n",
    "\n",
    "For the mean squared error function, the gradient is found by substituting the equation for $\\hat{y}$:\n",
    "\\\\[ J = \\frac{1}{n} \\sum_{i=1}^n (wx_i + b - y_i)^2 \\\\]\n",
    "The gradient is then given by the partial derivatives:\n",
    "\\\\[ \\frac{\\partial J}{\\partial w} = \\frac{2}{n} \\sum_{i=1}^n x_i (w x_i + b - y_i) = \\frac{2}{n} \\sum_{i=1}^n x_i (\\hat{y} - y_i), \\\\]\n",
    "and\n",
    "\\\\[ \\frac{\\partial J}{\\partial b} = \\frac{2}{n} \\sum_{i=1}^n (w x_i + b - y_i) = \\frac{2}{n} \\sum_{i=1}^n (\\hat{y} - y_i). \\\\]\n",
    "\n",
    "To descend down the gradient carefully, we choose a parameter $\\eta$, sufficiently small, to move in the correct direction, but not so rapidly that we overshoot the minimum of the error function. The parameter $\\eta$ is known as the __learning rate__.\n",
    "\n",
    "Gradient descent is then a loop for a given number of __epochs__ (iterations), where in each epoch we update the weight and bias as follows:\n",
    "\\\\[ w_k = w_{k-1} - \\eta \\times \\frac{2}{n} \\sum_{i=1}^n x_i (\\hat{y} - y_i), \\\\]\n",
    "and\n",
    "\\\\[ b_k = b_{k-1} - \\eta \\times \\frac{2}{n} \\sum_{i=1}^n (\\hat{y} - y_i). \\\\]\n",
    "\n",
    "This is all achieved in the Python class below:"
   ]
  },
  {
   "cell_type": "code",
   "execution_count": 32,
   "metadata": {},
   "outputs": [
    {
     "name": "stdout",
     "output_type": "stream",
     "text": [
      "[1.66179025] [-0.3123875]\n"
     ]
    }
   ],
   "source": [
    "eta = 0.0001\n",
    "epochs = 50000\n",
    "\n",
    "# initialise our weight and bias vectors with zeros\n",
    "w = np.zeros((n,1))\n",
    "b = np.zeros((n,1))\n",
    "\n",
    "for i in range(0,epochs):\n",
    "    y_predicted = w * x + b\n",
    "        \n",
    "    errors = y_predicted - y\n",
    "\n",
    "    w = w - eta * 2 * np.mean(errors * x)\n",
    "    b = b - eta * 2 * np.mean(errors)\n",
    "\n",
    "print(w[0], b[0])"
   ]
  },
  {
   "cell_type": "code",
   "execution_count": null,
   "metadata": {},
   "outputs": [],
   "source": []
  }
 ],
 "metadata": {
  "kernelspec": {
   "display_name": "Python 3",
   "language": "python",
   "name": "python3"
  },
  "language_info": {
   "codemirror_mode": {
    "name": "ipython",
    "version": 3
   },
   "file_extension": ".py",
   "mimetype": "text/x-python",
   "name": "python",
   "nbconvert_exporter": "python",
   "pygments_lexer": "ipython3",
   "version": "3.7.4"
  }
 },
 "nbformat": 4,
 "nbformat_minor": 2
}
