{
 "cells": [
  {
   "cell_type": "markdown",
   "metadata": {},
   "source": [
    "# Linear regression as a simple neural network\n",
    "\n",
    "Suppose we have a bivariate data set $x$ and $y$ and we wish to fit a linear model, $\\hat{y} = wx + b$, to it. The classical approach is to use least squares regression: a model which minimises the squares of the residuals between the measured value and the predicted value.\n",
    "\n",
    "This can also be achieved through the use of a simple neural network consisting of just an input layer of one neuron and an output layer of one neuron. There is one edge connecting them which scalar multiplies the input vector by a __weight__ $w$ and adds a __bias__ $b$ to each component of the vector.\n",
    "\n",
    "The data we're using consists of a training set: a randomly generated set of 700 pairs of points for which a linear model is suitable, and a testing set: a similarly randomly generated set of 300 pairs of points.\n",
    "\n",
    "Summary statistics and statter plots of both sets of data are below:"
   ]
  },
  {
   "cell_type": "code",
   "execution_count": 1,
   "metadata": {},
   "outputs": [
    {
     "data": {
      "text/html": [
       "<div>\n",
       "<style scoped>\n",
       "    .dataframe tbody tr th:only-of-type {\n",
       "        vertical-align: middle;\n",
       "    }\n",
       "\n",
       "    .dataframe tbody tr th {\n",
       "        vertical-align: top;\n",
       "    }\n",
       "\n",
       "    .dataframe thead th {\n",
       "        text-align: right;\n",
       "    }\n",
       "</style>\n",
       "<table border=\"1\" class=\"dataframe\">\n",
       "  <thead>\n",
       "    <tr style=\"text-align: right;\">\n",
       "      <th></th>\n",
       "      <th>x</th>\n",
       "      <th>y</th>\n",
       "    </tr>\n",
       "  </thead>\n",
       "  <tbody>\n",
       "    <tr>\n",
       "      <td>count</td>\n",
       "      <td>700.000000</td>\n",
       "      <td>700.000000</td>\n",
       "    </tr>\n",
       "    <tr>\n",
       "      <td>mean</td>\n",
       "      <td>49.992857</td>\n",
       "      <td>49.911608</td>\n",
       "    </tr>\n",
       "    <tr>\n",
       "      <td>std</td>\n",
       "      <td>28.939406</td>\n",
       "      <td>29.097996</td>\n",
       "    </tr>\n",
       "    <tr>\n",
       "      <td>min</td>\n",
       "      <td>0.000000</td>\n",
       "      <td>-3.839981</td>\n",
       "    </tr>\n",
       "    <tr>\n",
       "      <td>25%</td>\n",
       "      <td>25.000000</td>\n",
       "      <td>24.985830</td>\n",
       "    </tr>\n",
       "    <tr>\n",
       "      <td>50%</td>\n",
       "      <td>49.000000</td>\n",
       "      <td>48.936330</td>\n",
       "    </tr>\n",
       "    <tr>\n",
       "      <td>75%</td>\n",
       "      <td>75.000000</td>\n",
       "      <td>74.880631</td>\n",
       "    </tr>\n",
       "    <tr>\n",
       "      <td>max</td>\n",
       "      <td>100.000000</td>\n",
       "      <td>108.871618</td>\n",
       "    </tr>\n",
       "  </tbody>\n",
       "</table>\n",
       "</div>"
      ],
      "text/plain": [
       "                x           y\n",
       "count  700.000000  700.000000\n",
       "mean    49.992857   49.911608\n",
       "std     28.939406   29.097996\n",
       "min      0.000000   -3.839981\n",
       "25%     25.000000   24.985830\n",
       "50%     49.000000   48.936330\n",
       "75%     75.000000   74.880631\n",
       "max    100.000000  108.871618"
      ]
     },
     "execution_count": 1,
     "metadata": {},
     "output_type": "execute_result"
    }
   ],
   "source": [
    "import pandas as pd\n",
    "\n",
    "df_train = pd.read_csv(\"LinRegTrain.csv\")\n",
    "df_test = pd.read_csv(\"LinRegTest.csv\")\n",
    "\n",
    "df_train.describe()"
   ]
  },
  {
   "cell_type": "code",
   "execution_count": 2,
   "metadata": {},
   "outputs": [
    {
     "data": {
      "text/html": [
       "<div>\n",
       "<style scoped>\n",
       "    .dataframe tbody tr th:only-of-type {\n",
       "        vertical-align: middle;\n",
       "    }\n",
       "\n",
       "    .dataframe tbody tr th {\n",
       "        vertical-align: top;\n",
       "    }\n",
       "\n",
       "    .dataframe thead th {\n",
       "        text-align: right;\n",
       "    }\n",
       "</style>\n",
       "<table border=\"1\" class=\"dataframe\">\n",
       "  <thead>\n",
       "    <tr style=\"text-align: right;\">\n",
       "      <th></th>\n",
       "      <th>x</th>\n",
       "      <th>y</th>\n",
       "    </tr>\n",
       "  </thead>\n",
       "  <tbody>\n",
       "    <tr>\n",
       "      <td>count</td>\n",
       "      <td>300.000000</td>\n",
       "      <td>300.000000</td>\n",
       "    </tr>\n",
       "    <tr>\n",
       "      <td>mean</td>\n",
       "      <td>50.936667</td>\n",
       "      <td>51.205051</td>\n",
       "    </tr>\n",
       "    <tr>\n",
       "      <td>std</td>\n",
       "      <td>28.504286</td>\n",
       "      <td>29.071481</td>\n",
       "    </tr>\n",
       "    <tr>\n",
       "      <td>min</td>\n",
       "      <td>0.000000</td>\n",
       "      <td>-3.467884</td>\n",
       "    </tr>\n",
       "    <tr>\n",
       "      <td>25%</td>\n",
       "      <td>27.000000</td>\n",
       "      <td>25.676502</td>\n",
       "    </tr>\n",
       "    <tr>\n",
       "      <td>50%</td>\n",
       "      <td>53.000000</td>\n",
       "      <td>52.170557</td>\n",
       "    </tr>\n",
       "    <tr>\n",
       "      <td>75%</td>\n",
       "      <td>73.000000</td>\n",
       "      <td>74.303007</td>\n",
       "    </tr>\n",
       "    <tr>\n",
       "      <td>max</td>\n",
       "      <td>100.000000</td>\n",
       "      <td>105.591837</td>\n",
       "    </tr>\n",
       "  </tbody>\n",
       "</table>\n",
       "</div>"
      ],
      "text/plain": [
       "                x           y\n",
       "count  300.000000  300.000000\n",
       "mean    50.936667   51.205051\n",
       "std     28.504286   29.071481\n",
       "min      0.000000   -3.467884\n",
       "25%     27.000000   25.676502\n",
       "50%     53.000000   52.170557\n",
       "75%     73.000000   74.303007\n",
       "max    100.000000  105.591837"
      ]
     },
     "execution_count": 2,
     "metadata": {},
     "output_type": "execute_result"
    }
   ],
   "source": [
    "df_test.describe()"
   ]
  },
  {
   "cell_type": "code",
   "execution_count": 3,
   "metadata": {},
   "outputs": [
    {
     "data": {
      "text/plain": [
       "<Figure size 640x480 with 1 Axes>"
      ]
     },
     "metadata": {},
     "output_type": "display_data"
    }
   ],
   "source": [
    "import matplotlib.pyplot as plt\n",
    "\n",
    "plt.scatter(df_train['x'], df_train['y'])\n",
    "plt.title(\"Training data\")\n",
    "plt.show()"
   ]
  },
  {
   "cell_type": "code",
   "execution_count": 4,
   "metadata": {},
   "outputs": [
    {
     "data": {
      "image/png": "[encoded data removed]",
      "text/plain": [
       "<Figure size 432x288 with 1 Axes>"
      ]
     },
     "metadata": {
      "needs_background": "light"
     },
     "output_type": "display_data"
    }
   ],
   "source": [
    "plt.scatter(df_test['x'], df_test['y'])\n",
    "plt.title(\"Test data\")\n",
    "plt.show()"
   ]
  },
  {
   "cell_type": "markdown",
   "metadata": {},
   "source": [
    "## Classical linear regression\n",
    "Before we construct a neural network to find the linear model, we will use the classical linear regression model. Recall the gradient of the linear model is given by\n",
    "\\\\[ w = \\frac{\\sum_{i=0}^n (x_i - \\bar{x})(y_i - \\bar{y})}{\\sum_{i=0}^n (x_i - \\bar{x})^2}. \\\\]\n",
    "The $y$-intercept is then given by\n",
    "\\\\[ b = \\bar{y} - m \\bar{x}. \\\\]"
   ]
  },
  {
   "cell_type": "code",
   "execution_count": 5,
   "metadata": {},
   "outputs": [
    {
     "name": "stdout",
     "output_type": "stream",
     "text": [
      "w =  1.0007782480808467\n",
      "b =  -0.12015553181318239\n"
     ]
    }
   ],
   "source": [
    "import numpy as np\n",
    "\n",
    "# create vectors of the appropriate shape of training data values\n",
    "x = np.array(df_train['x']).reshape(-1,1)\n",
    "y = np.array(df_train['y']).reshape(-1,1)\n",
    "\n",
    "w_calc = np.sum((x - x.mean())*(y - y.mean())) / np.sum((x - x.mean())**2)\n",
    "b_calc = y.mean() - w_calc * x.mean()\n",
    "print(\"w = \", w_calc) \n",
    "print(\"b = \", b_calc)"
   ]
  },
  {
   "cell_type": "markdown",
   "metadata": {},
   "source": [
    "## Creating the network\n",
    "We create two 700 dimensional vectors $w$ and $b$ initialised with zeroes. We then update these values through a loop which looks at the difference between the predicted values generated by $\\hat{y} = wx + b$ and the training data $y$ values. Obviously, this first model will be a terrible fit. To create a better fit we use an error function and minimise the error using a technique called __gradient descent__.\n",
    "\n",
    "Our error function of choice is the mean squared error:\n",
    "\\\\[ J := 1/n \\sum_{i=1}^n (\\hat{y}_i - y_i)^2. \\\\]\n",
    "To choose the direction in which we should move we use the negative of the __gradient__:\n",
    "\\\\[ \\nabla J = \\left[ \\begin{array}{c} \\frac{\\partial J}{\\partial w} \\\\ \\frac{\\partial J}{\\partial b} \\end{array} \\right]. \\\\]\n",
    "This is because the gradient gives us the direction in which we should travel to increase the value of a multivariable function most rapidly. The negative then gives us the direction to _decrease_ the value of a function most rapidly.\n",
    "\n",
    "For the mean squared error function, the gradient is found by substituting the equation for $\\hat{y}$:\n",
    "\\\\[ J = \\sum_{i=1}^n (wx_i + b - y_i)^2 \\\\]\n",
    "The gradient is then given by the partial derivatives:\n",
    "\\\\[ \\frac{\\partial J}{\\partial w} = \\frac{2}{n} \\sum_{i=0}^n x_i (w x_i + b - y_i) = \\frac{2}{n} \\sum_{i=0}^n x_i (\\hat{y} - y_i), \\\\]\n",
    "and\n",
    "\\\\[ \\frac{\\partial J}{\\partial b} = \\frac{2}{n} \\sum_{i=0}^n (w x_i + b - y_i) = \\frac{2}{n} \\sum_{i=0}^n (\\hat{y} - y_i). \\\\]\n",
    "\n",
    "To descend down the gradient carefully, we choose a parameter $\\gamma$, sufficiently small, to move in the correct direction, but not so rapidly that we overshoot the minimum of the error function. The parameter $\\gamma$ is known as the __learning rate__.\n",
    "\n",
    "Gradient descent is then a loop for a given number of __epochs__ (iterations), where in each epoch we update the weight and bias as follows:\n",
    "\\\\[ w_k = w_{k-1} - \\gamma \\times \\frac{2}{n} \\sum_{i=0}^n x_i (\\hat{y} - y_i), \\\\]\n",
    "and\n",
    "\\\\[ b_k = b_{k-1} - \\gamma \\times \\frac{2}{n} \\sum_{i=0}^n (\\hat{y} - y_i).  \\\\]"
   ]
  },
  {
   "cell_type": "code",
   "execution_count": 8,
   "metadata": {},
   "outputs": [
    {
     "name": "stdout",
     "output_type": "stream",
     "text": [
      "w =  [6.66433512e-05] b =  [9.98232169e-07] MSE =  3336.6524577344967\n",
      "w =  [0.48632877] b =  [0.00728275] MSE =  884.2553137101332\n",
      "w =  [0.73582909] b =  [0.01101571] MSE =  238.61306099308564\n",
      "w =  [0.86384732] b =  [0.01292778] MSE =  68.63491527551669\n",
      "w =  [0.92953331] b =  [0.01390557] MSE =  23.884792338585093\n",
      "w =  [0.96323673] b =  [0.01440397] MSE =  12.103433407168508\n",
      "w =  [0.98052994] b =  [0.0146564] MSE =  9.001756354611075\n",
      "w =  [0.98940311] b =  [0.01478263] MSE =  8.185177933788166\n",
      "w =  [0.99395597] b =  [0.0148441] MSE =  7.970197109496857\n",
      "w =  [0.99629208] b =  [0.01487234] MSE =  7.9135988001584625\n",
      "w =  [0.99749079] b =  [0.01488354] MSE =  7.898697833366464\n",
      "w =  [0.99810589] b =  [0.01488598] MSE =  7.894774520136277\n",
      "w =  [0.99842155] b =  [0.01488394] MSE =  7.893741292254558\n",
      "w =  [0.99858356] b =  [0.0148796] MSE =  7.893468936771302\n",
      "w =  [0.99866674] b =  [0.01487408] MSE =  7.89339689609161\n",
      "w =  [0.99870947] b =  [0.01486795] MSE =  7.893377592296033\n",
      "w =  [0.99873144] b =  [0.01486151] MSE =  7.893372172566398\n",
      "w =  [0.99874276] b =  [0.0148549] MSE =  7.8933704081267075\n",
      "w =  [0.99874862] b =  [0.01484822] MSE =  7.8933696060485365\n",
      "w =  [0.99875168] b =  [0.0148415] MSE =  7.893369057364988\n",
      "w =  [0.9987533] b =  [0.01483475] MSE =  7.893368575426449\n",
      "w =  [0.99875418] b =  [0.014828] MSE =  7.893368111093695\n",
      "w =  [0.99875468] b =  [0.01482124] MSE =  7.893367651429846\n",
      "w =  [0.99875498] b =  [0.01481447] MSE =  7.893367193029008\n",
      "w =  [0.99875519] b =  [0.01480771] MSE =  7.893366734994509\n",
      "w =  [0.99875534] b =  [0.01480094] MSE =  7.8933662770902835\n",
      "w =  [0.99875547] b =  [0.01479418] MSE =  7.89336581925417\n",
      "w =  [0.99875559] b =  [0.01478741] MSE =  7.893365361469804\n",
      "w =  [0.9987557] b =  [0.01478065] MSE =  7.893364903732875\n",
      "w =  [0.9987558] b =  [0.01477389] MSE =  7.893364446042246\n",
      "w =  [0.99875591] b =  [0.01476712] MSE =  7.893363988397612\n",
      "w =  [0.99875601] b =  [0.01476036] MSE =  7.893363530798888\n",
      "w =  [0.99875611] b =  [0.01475359] MSE =  7.89336307324605\n",
      "w =  [0.99875621] b =  [0.01474683] MSE =  7.89336261573909\n",
      "w =  [0.99875631] b =  [0.01474007] MSE =  7.893362158277998\n",
      "w =  [0.99875641] b =  [0.01473331] MSE =  7.893361700862771\n",
      "w =  [0.99875652] b =  [0.01472654] MSE =  7.8933612434934055\n",
      "w =  [0.99875662] b =  [0.01471978] MSE =  7.893360786169897\n",
      "w =  [0.99875672] b =  [0.01471302] MSE =  7.8933603288922365\n",
      "w =  [0.99875682] b =  [0.01470626] MSE =  7.893359871660424\n",
      "w =  [0.99875692] b =  [0.0146995] MSE =  7.893359414474457\n",
      "w =  [0.99875702] b =  [0.01469274] MSE =  7.893358957334326\n",
      "w =  [0.99875712] b =  [0.01468598] MSE =  7.893358500240025\n",
      "w =  [0.99875723] b =  [0.01467922] MSE =  7.8933580431915535\n",
      "w =  [0.99875733] b =  [0.01467246] MSE =  7.893357586188906\n",
      "w =  [0.99875743] b =  [0.0146657] MSE =  7.893357129232078\n",
      "w =  [0.99875753] b =  [0.01465894] MSE =  7.893356672321064\n",
      "w =  [0.99875763] b =  [0.01465218] MSE =  7.89335621545586\n",
      "w =  [0.99875773] b =  [0.01464542] MSE =  7.893355758636463\n",
      "w =  [0.99875783] b =  [0.01463867] MSE =  7.893355301862866\n",
      "w =  [0.99875793] b =  [0.01463191] MSE =  7.893354845135065\n",
      "w =  [0.99875804] b =  [0.01462515] MSE =  7.893354388453052\n",
      "w =  [0.99875814] b =  [0.01461839] MSE =  7.89335393181683\n",
      "w =  [0.99875824] b =  [0.01461164] MSE =  7.893353475226391\n",
      "w =  [0.99875834] b =  [0.01460488] MSE =  7.893353018681728\n",
      "w =  [0.99875844] b =  [0.01459813] MSE =  7.893352562182837\n",
      "w =  [0.99875854] b =  [0.01459137] MSE =  7.893352105729716\n",
      "w =  [0.99875864] b =  [0.01458462] MSE =  7.89335164932236\n",
      "w =  [0.99875874] b =  [0.01457786] MSE =  7.89335119296076\n",
      "w =  [0.99875885] b =  [0.01457111] MSE =  7.893350736644921\n",
      "w =  [0.99875895] b =  [0.01456435] MSE =  7.893350280374826\n",
      "w =  [0.99875905] b =  [0.0145576] MSE =  7.893349824150481\n",
      "w =  [0.99875915] b =  [0.01455085] MSE =  7.893349367971875\n",
      "w =  [0.99875925] b =  [0.01454409] MSE =  7.893348911839004\n",
      "w =  [0.99875935] b =  [0.01453734] MSE =  7.893348455751867\n",
      "w =  [0.99875945] b =  [0.01453059] MSE =  7.893347999710456\n",
      "w =  [0.99875955] b =  [0.01452384] MSE =  7.893347543714768\n",
      "w =  [0.99875966] b =  [0.01451708] MSE =  7.8933470877648\n",
      "w =  [0.99875976] b =  [0.01451033] MSE =  7.8933466318605445\n",
      "w =  [0.99875986] b =  [0.01450358] MSE =  7.893346176001996\n",
      "w =  [0.99875996] b =  [0.01449683] MSE =  7.893345720189157\n",
      "w =  [0.99876006] b =  [0.01449008] MSE =  7.893345264422013\n",
      "w =  [0.99876016] b =  [0.01448333] MSE =  7.893344808700564\n",
      "w =  [0.99876026] b =  [0.01447658] MSE =  7.893344353024809\n",
      "w =  [0.99876036] b =  [0.01446983] MSE =  7.893343897394737\n",
      "w =  [0.99876046] b =  [0.01446308] MSE =  7.893343441810349\n",
      "w =  [0.99876057] b =  [0.01445634] MSE =  7.893342986271636\n",
      "w =  [0.99876067] b =  [0.01444959] MSE =  7.893342530778596\n",
      "w =  [0.99876077] b =  [0.01444284] MSE =  7.893342075331225\n",
      "w =  [0.99876087] b =  [0.01443609] MSE =  7.893341619929515\n",
      "w =  [0.99876097] b =  [0.01442934] MSE =  7.893341164573465\n",
      "w =  [0.99876107] b =  [0.0144226] MSE =  7.893340709263069\n",
      "w =  [0.99876117] b =  [0.01441585] MSE =  7.89334025399832\n",
      "w =  [0.99876127] b =  [0.0144091] MSE =  7.89333979877922\n",
      "w =  [0.99876137] b =  [0.01440236] MSE =  7.893339343605759\n",
      "w =  [0.99876148] b =  [0.01439561] MSE =  7.89333888847793\n",
      "w =  [0.99876158] b =  [0.01438887] MSE =  7.893338433395736\n",
      "w =  [0.99876168] b =  [0.01438212] MSE =  7.893337978359167\n",
      "w =  [0.99876178] b =  [0.01437538] MSE =  7.89333752336822\n",
      "w =  [0.99876188] b =  [0.01436863] MSE =  7.893337068422892\n",
      "w =  [0.99876198] b =  [0.01436189] MSE =  7.893336613523178\n",
      "w =  [0.99876208] b =  [0.01435515] MSE =  7.893336158669069\n",
      "w =  [0.99876218] b =  [0.0143484] MSE =  7.893335703860565\n",
      "w =  [0.99876228] b =  [0.01434166] MSE =  7.893335249097659\n",
      "w =  [0.99876239] b =  [0.01433492] MSE =  7.89333479438035\n",
      "w =  [0.99876249] b =  [0.01432818] MSE =  7.893334339708628\n",
      "w =  [0.99876259] b =  [0.01432143] MSE =  7.893333885082493\n",
      "w =  [0.99876269] b =  [0.01431469] MSE =  7.893333430501937\n",
      "w =  [0.99876279] b =  [0.01430795] MSE =  7.89333297596696\n",
      "w =  [0.99876289] b =  [0.01430121] MSE =  7.8933325214775545\n",
      "w =  [0.99876299] b =  [0.01429447] MSE =  7.893332067033715\n",
      "w =  [0.99876309] b =  [0.01428773] MSE =  7.893331612635438\n",
      "w =  [0.99876319] b =  [0.01428099] MSE =  7.893331158282721\n",
      "w =  [0.9987633] b =  [0.01427425] MSE =  7.893330703975554\n",
      "w =  [0.9987634] b =  [0.01426751] MSE =  7.893330249713937\n",
      "w =  [0.9987635] b =  [0.01426077] MSE =  7.8933297954978645\n",
      "w =  [0.9987636] b =  [0.01425403] MSE =  7.893329341327332\n",
      "w =  [0.9987637] b =  [0.0142473] MSE =  7.893328887202337\n",
      "w =  [0.9987638] b =  [0.01424056] MSE =  7.893328433122871\n",
      "w =  [0.9987639] b =  [0.01423382] MSE =  7.8933279790889275\n",
      "w =  [0.998764] b =  [0.01422708] MSE =  7.893327525100508\n",
      "w =  [0.9987641] b =  [0.01422035] MSE =  7.893327071157605\n",
      "w =  [0.9987642] b =  [0.01421361] MSE =  7.893326617260216\n",
      "w =  [0.9987643] b =  [0.01420687] MSE =  7.893326163408333\n",
      "w =  [0.99876441] b =  [0.01420014] MSE =  7.893325709601956\n",
      "w =  [0.99876451] b =  [0.0141934] MSE =  7.8933252558410745\n",
      "w =  [0.99876461] b =  [0.01418667] MSE =  7.893324802125688\n",
      "w =  [0.99876471] b =  [0.01417993] MSE =  7.893324348455792\n",
      "w =  [0.99876481] b =  [0.0141732] MSE =  7.89332389483138\n",
      "w =  [0.99876491] b =  [0.01416646] MSE =  7.893323441252449\n",
      "w =  [0.99876501] b =  [0.01415973] MSE =  7.893322987718992\n",
      "w =  [0.99876511] b =  [0.014153] MSE =  7.893322534231008\n",
      "w =  [0.99876521] b =  [0.01414626] MSE =  7.893322080788491\n",
      "w =  [0.99876531] b =  [0.01413953] MSE =  7.893321627391436\n",
      "w =  [0.99876542] b =  [0.0141328] MSE =  7.893321174039837\n",
      "w =  [0.99876552] b =  [0.01412607] MSE =  7.893320720733692\n",
      "w =  [0.99876562] b =  [0.01411934] MSE =  7.893320267472996\n"
     ]
    },
    {
     "ename": "KeyboardInterrupt",
     "evalue": "",
     "output_type": "error",
     "traceback": [
      "\u001b[0;31m---------------------------------------------------------------------------\u001b[0m",
      "\u001b[0;31mKeyboardInterrupt\u001b[0m                         Traceback (most recent call last)",
      "\u001b[0;32m<ipython-input-8-4f173bb3a193>\u001b[0m in \u001b[0;36m<module>\u001b[0;34m\u001b[0m\n\u001b[1;32m     19\u001b[0m \u001b[0;34m\u001b[0m\u001b[0m\n\u001b[1;32m     20\u001b[0m     \u001b[0mw\u001b[0m \u001b[0;34m=\u001b[0m \u001b[0mw\u001b[0m \u001b[0;34m-\u001b[0m \u001b[0mgamma\u001b[0m \u001b[0;34m*\u001b[0m \u001b[0;36m2\u001b[0m \u001b[0;34m/\u001b[0m \u001b[0mn\u001b[0m \u001b[0;34m*\u001b[0m \u001b[0mnp\u001b[0m\u001b[0;34m.\u001b[0m\u001b[0msum\u001b[0m\u001b[0;34m(\u001b[0m\u001b[0merrors\u001b[0m \u001b[0;34m*\u001b[0m \u001b[0mx\u001b[0m\u001b[0;34m)\u001b[0m\u001b[0;34m\u001b[0m\u001b[0;34m\u001b[0m\u001b[0m\n\u001b[0;32m---> 21\u001b[0;31m     \u001b[0mb\u001b[0m \u001b[0;34m=\u001b[0m \u001b[0mb\u001b[0m \u001b[0;34m-\u001b[0m \u001b[0mgamma\u001b[0m \u001b[0;34m*\u001b[0m \u001b[0;36m2\u001b[0m \u001b[0;34m/\u001b[0m \u001b[0mn\u001b[0m \u001b[0;34m*\u001b[0m \u001b[0mnp\u001b[0m\u001b[0;34m.\u001b[0m\u001b[0msum\u001b[0m\u001b[0;34m(\u001b[0m\u001b[0merrors\u001b[0m\u001b[0;34m)\u001b[0m\u001b[0;34m\u001b[0m\u001b[0;34m\u001b[0m\u001b[0m\n\u001b[0m\u001b[1;32m     22\u001b[0m \u001b[0;34m\u001b[0m\u001b[0m\n\u001b[1;32m     23\u001b[0m     \u001b[0;32mif\u001b[0m \u001b[0;34m(\u001b[0m\u001b[0mi\u001b[0m \u001b[0;34m%\u001b[0m \u001b[0;36m10000\u001b[0m \u001b[0;34m==\u001b[0m \u001b[0;36m0\u001b[0m\u001b[0;34m)\u001b[0m\u001b[0;34m:\u001b[0m\u001b[0;34m\u001b[0m\u001b[0;34m\u001b[0m\u001b[0m\n",
      "\u001b[0;32m<__array_function__ internals>\u001b[0m in \u001b[0;36msum\u001b[0;34m(*args, **kwargs)\u001b[0m\n",
      "\u001b[0;31mKeyboardInterrupt\u001b[0m: "
     ]
    }
   ],
   "source": [
    "# create vectors of the appropriate shape of training data values\n",
    "x = np.array(df_train['x']).reshape(-1,1)\n",
    "y = np.array(df_train['y']).reshape(-1,1)\n",
    "\n",
    "# key parameters\n",
    "n = 700\n",
    "gamma = 0.00000001\n",
    "epochs = 10000000\n",
    "\n",
    "# initialise our weight and bias vectors with zeros\n",
    "w = np.zeros((n,1))\n",
    "b = np.zeros((n,1))\n",
    "\n",
    "for i in range(0,epochs):\n",
    "    y_predicted = w * x + b\n",
    "        \n",
    "    errors = y_predicted - y\n",
    "    MSE = np.sum(errors**2) / n\n",
    "\n",
    "    w = w - gamma * 2 / n * np.sum(errors * x)\n",
    "    b = b - gamma * 2 / n * np.sum(errors)\n",
    "    \n",
    "    if (i % 10000 == 0):\n",
    "        print(\"w = \", w[0], \"b = \", b[0], \"MSE = \", MSE)\n",
    "\n",
    "print(\"w = \", w[0], \"b = \", b[0])"
   ]
  },
  {
   "cell_type": "code",
   "execution_count": 7,
   "metadata": {},
   "outputs": [
    {
     "name": "stdout",
     "output_type": "stream",
     "text": [
      "w =  [0.9988519] b =  [0.008363]\n"
     ]
    }
   ],
   "source": [
    "print(\"w = \", w[0], \"b = \", b[0])"
   ]
  },
  {
   "cell_type": "code",
   "execution_count": null,
   "metadata": {},
   "outputs": [],
   "source": []
  }
 ],
 "metadata": {
  "kernelspec": {
   "display_name": "Python 3",
   "language": "python",
   "name": "python3"
  },
  "language_info": {
   "codemirror_mode": {
    "name": "ipython",
    "version": 3
   },
   "file_extension": ".py",
   "mimetype": "text/x-python",
   "name": "python",
   "nbconvert_exporter": "python",
   "pygments_lexer": "ipython3",
   "version": "3.7.4"
  }
 },
 "nbformat": 4,
 "nbformat_minor": 2
}
